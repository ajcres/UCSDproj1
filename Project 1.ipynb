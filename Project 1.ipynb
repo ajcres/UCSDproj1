1. Identify an individual
2. get their social media accounts
3. get their posts
4. find common word pairings and hashtags/groups
5. return those interests that were found
6. check for any post locations
7. return movment or map
