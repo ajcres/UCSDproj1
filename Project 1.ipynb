#Placeholder website: https://sites.google.com/view/ucsdpostreader/home
1. Identify an individual
2. get their social media accounts
3. get their posts
4. find common word pairings and hashtags/groups
5. return those interests that were found
6. check for any post locations
7. return movment or map

#Will imput an array of the words form a post
#this is just a list of jack black's recent posts right now for testing
postList = ["Looking for Russian spies","Everything you know about Jumanji is about to change… 🎮 Watch the trailer for #JUMANJI: The Next Level and see it in theaters this Christmas! ￼￼🐒🎉","New ep of #JablinskiGames is live RIGHT NOW!!!! https://youtu.be/9bmDi6dNZUA ","this new episode of #JablinskiGames was SHOCKING https://youtu.be/eUl8ZB0BZR4 ","Pinkpop Festival in the Netherlands 📷 https://Instagram.com/sseiver "]
#This is the most common 100 words in the english language
normieWords = ["the","of","and","a","to","in","is","you","that","it","he","was","for","on","are","as","with","his","they","i","at","be","this","have","from","or","one","had","by","word","but","not","what","all","were","we","when","your","can","said","there","use","an","each","which","she","do","how","their","if","will","up","other","about","out","many","then","them","these","so","some","her","would","make","like","him","into","time","has","look","two","more","write","go","see","number","no","way","could","people","my","than","first","water","been","call","who","oil","its","now","find","long","down","day","did","get","come","made","may","part"]

def LookAt(pl,nw): #pl is the list of posts in string format and nw is the list of the most commmon english words
    #list of hashtags
    hashes = []
    #looks at each post's content
    for post in pl:
        #list of the words in the post
        postWords = []
        #splits the post into words and removes the most common english words
        for word in post.lower().split():
            if word not in nw:
                postWords.append(word)
        #removes hashtags and adds them to the hashtag list
        for word in postWords:
            if word[0] == '#':
                hashes.append(word)
                postWords.remove(word)
        #removes emoji/non-ascii words
        for word in postWords:
            for ch in word:
                if ch > "\x7F":
                    postWords.remove(word)
                    break
        #removes links
        for word in postWords:
            if 'http' in word or 'bit.ly' in word:
                postWords.remove(word)
        print(postWords)

    #code that creates 2d array with the hashtags and the number of them
    hl = []
    for hn1 in range(len(hashes)):
        hl.append([hashes[hn1],1])
        for hn2 in range(hn1+1,len(hashes)):
            if hashes[hn1] == hashes[hn2]:
                hl[hn1][1]+=1
                hashes[hn2] = ""
    #cleans up the list to remove artifacts from the above code
    for hn1 in range(len(hl)):
        if hl[hn1][0] == '':
            hl.pop(hn1)
    #decides on the number of hashtags to print
    hashToP = (len(hl)+len(hashes))//2
    #setup for sorting by the second number
    def sortSecond(ppp):
        return ppp[1]
    #sorts in ascending order by the second value in the double arrays
    hl.sort(key = sortSecond, reverse = True)
    #prints the highest used hashtags
    print("Most used hashtags:")
    for eee in range(len(hl)):
        print(hl[eee][0] +" appears "+ str(hl[eee][1]) + " times")

LookAt(postList,normieWords)
