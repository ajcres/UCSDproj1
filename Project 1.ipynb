1. Identify an individual
2. get their social media accounts
3. get their posts
4. find common word pairings and hashtags/groups
5. return those interests that were found
6. check for any post locations
7. return movment or map

#Will imput an array of the words form a post
#this is just a list of jack black's recent posts right now for testing
postList = ["Looking for Russian spies","Everything you know about Jumanji is about to change… 🎮 Watch the trailer for #JUMANJI: The Next Level and see it in theaters this Christmas! ￼￼🐒🎉","New ep of #JablinskiGames is live RIGHT NOW!!!! https://youtu.be/9bmDi6dNZUA ","this new episode of #JablinskiGames was SHOCKING https://youtu.be/eUl8ZB0BZR4 ","Pinkpop Festival in the Netherlands 📷 https://Instagram.com/sseiver "]
normieWords = ["the","of","and","a","to","in","is","you","that","it","he","was","for","on","are","as","with","his","they","i","at","be","this","have","from","or","one","had","by","word","but","not","what","all","were","we","when","your","can","said","there","use","an","each","which","she","do","how","their","if","will","up","other","about","out","many","then","them","these","so","some","her","would","make","like","him","into","time","has","look","two","more","write","go","see","number","no","way","could","people","my","than","first","water","been","call","who","oil","its","now","find","long","down","day","did","get","come","made","may","part"]

def LookAt(pl,nw):
    hashes = []
    for post in pl:
        postWords = []
        #removes the common words
        for word in post.lower().split():
            if word not in nw:
                postWords.append(word)
        #removes hashtags
        for word in postWords:
            if word[0] == '#':
                hashes.append(word)
                postWords.remove(word)
        #removes emoji/non-ascii
        for word in postWords:
            for ch in word:
                if ch > "\x7F":
                    postWords.remove(word)
                    break
        #removes links
        for word in postWords:
            if 'http' in word or 'bit.ly' in word:
                postWords.remove(word)
        print(postWords)
    #find most used hashes
    numToUse = hashes//2+1
    #code that finds the top (num to use) hashtags and returns them in order

LookAt(postList,normieWords)
